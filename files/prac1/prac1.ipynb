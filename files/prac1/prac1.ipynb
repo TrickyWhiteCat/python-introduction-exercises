{
 "cells": [
  {
   "cell_type": "markdown",
   "metadata": {},
   "source": [
    "<h1 style = \"color : red;\">Practice 1: Control flow</h1>\n"
   ]
  },
  {
   "cell_type": "markdown",
   "metadata": {},
   "source": [
    "<h2 style = \"color: cyan\">Part 1. Conditional statements</h2>"
   ]
  },
  {
   "cell_type": "markdown",
   "metadata": {},
   "source": [
    "<h3>Exercise 1</h3>\n",
    "Write a program to display the number of days in a month, given the month and the year"
   ]
  },
  {
   "cell_type": "code",
   "execution_count": null,
   "metadata": {},
   "outputs": [],
   "source": [
    "def leap(year:int) -> bool:\n",
    "    if ((year % 4) and (not year % 100)) or (year % 400):\n",
    "        return True\n",
    "    return False\n",
    "def exercise1():\n",
    "    month = int(input())\n",
    "    year = int(input())\n",
    "    days_in_month = [-1, 31, 28, 31, 30, 31, 30, 31, 31, 30, 31, 30, 31]\n",
    "    if month == 2:\n",
    "        if leap(year):\n",
    "            print(29)\n",
    "        else:\n",
    "            print(28)\n",
    "    else:\n",
    "        print(days_in_month[month])\n",
    "exercise1()"
   ]
  },
  {
   "cell_type": "markdown",
   "metadata": {},
   "source": [
    "<h3>Exercise 2</h3>\n",
    "Write a program to determine if 3 distinct points create an acute, right, obtuse triangle or a straight line, given the coordinates of the points"
   ]
  },
  {
   "cell_type": "code",
   "execution_count": null,
   "metadata": {},
   "outputs": [],
   "source": [
    "import math\n",
    "\n",
    "ax, ay, bx, by, cx, cy = [float(i) for i in input().split()]\n",
    "\n",
    "def length(v):\n",
    "    res = 0\n",
    "    for i in range(len(v)):\n",
    "        res += v[i]**2\n",
    "    return math.sqrt(res)\n",
    "\n",
    "def pythagoras(a, b, c):\n",
    "    if length(a) + length(b) == length(c) or \\\n",
    "       length(a) + length(c) == length(b) or \\\n",
    "       length(b) + length(c) == length(a):\n",
    "        return 'line'\n",
    "    if length(a) ** 2 + length(b) ** 2 == length(c) ** 2 or \\\n",
    "       length(a) ** 2 + length(c) ** 2 == length(b) ** 2 or \\\n",
    "       length(b) ** 2 + length(c) ** 2 == length(a) ** 2:\n",
    "        return 'right'\n",
    "    if length(a) ** 2 + length(b) ** 2 > length(c) ** 2 or \\\n",
    "       length(a) ** 2 + length(c) ** 2 > length(b) ** 2 or \\\n",
    "       length(b) ** 2 + length(c) ** 2 > length(a) ** 2:\n",
    "        return 'obtuse'\n",
    "    return 'acute'\n",
    "\n",
    "def exercise2():\n",
    "    print(pythagoras((ax-bx, ay-by), (bx-cx, by-cy), (cx-ax, cy-ay)))\n",
    "exercise2()"
   ]
  },
  {
   "cell_type": "markdown",
   "metadata": {},
   "source": [
    "<h3>Exercise 3</h3>\n",
    "GrabBike's pricing in Hanoi is calculated as follow: for the first 2km, the customer will be charged VND 12,000 and for each next km, he will be charged VND 3,500. In addition, after the first 2km, the customer will be charged VND 350 for each minute travel.\n",
    "\n",
    "Given the distance and the average speed (assume that the speed is constant), calculate the amount of money that the customer has to pay"
   ]
  },
  {
   "cell_type": "code",
   "execution_count": null,
   "metadata": {},
   "outputs": [],
   "source": [
    "def exercise3():\n",
    "    distance = float(input())\n",
    "    speed = float(input())\n",
    "    time_after_2km = (distance-2)/speed\n",
    "    if distance <= 2:\n",
    "        print(12000)\n",
    "    else:\n",
    "        print(round(12000 + 3500*math.ceil(distance-2) + 350*time_after_2km))\n",
    "exercise3()"
   ]
  },
  {
   "cell_type": "markdown",
   "metadata": {},
   "source": [
    "<h2 style = \"color: cyan\">Part 2. Loops</h2>"
   ]
  },
  {
   "cell_type": "markdown",
   "metadata": {},
   "source": [
    "<h3>Exercise 4</h3>\n",
    "The Collatz conjecture is a conjecture in mathematics that concerns a sequence defined as follows: start with any positive integer n. If the previous term is even, the next term is one half of the previous term. If the previous term is odd, the next term is 3 times the previous term plus 1. The conjecture is that no matter what value of n, the sequence will always reach 1.\n",
    "\n",
    "For instance, starting with n = 12, one gets the sequence 12, 6, 3, 10, 5, 16, 8, 4, 2, 1.\n",
    "\n",
    "Given the starting number, print the value of all the numbers in its path to 1"
   ]
  },
  {
   "cell_type": "code",
   "execution_count": null,
   "metadata": {},
   "outputs": [],
   "source": [
    "def Collatz(n:int):\n",
    "    n = int(n)\n",
    "    while n != 1:\n",
    "        print(n, end = ' ')\n",
    "        if n % 2:\n",
    "            n = n * 3 + 1\n",
    "        else:\n",
    "            n //= 2\n",
    "    print(1)\n",
    "\n",
    "def exercise4():\n",
    "    n = int(input())\n",
    "    Collatz(n)\n",
    "\n",
    "exercise4()"
   ]
  },
  {
   "cell_type": "markdown",
   "metadata": {},
   "source": [
    "<h3>Exercise 5</h3>\n",
    "Write a program to check if an integer is a prime number or not"
   ]
  },
  {
   "cell_type": "code",
   "execution_count": null,
   "metadata": {},
   "outputs": [],
   "source": [
    "import math\n",
    "\n",
    "def is_prime(n:int) -> bool:\n",
    "    if n <= 1:\n",
    "        return False \n",
    "\n",
    "    for i in range(2, int(math.sqrt(n)) + 1):\n",
    "        if n % i == 0:\n",
    "            return False\n",
    "\n",
    "    return True\n",
    "\n",
    "def exercise5():\n",
    "    n = int(input())\n",
    "    print('prime' if is_prime(n) else 'not prime')\n",
    "\n",
    "exercise5()"
   ]
  },
  {
   "cell_type": "markdown",
   "metadata": {},
   "source": [
    "<h3>Exercise 6</h3>\n",
    "Print a shape that looks like the one below, given the height\n",
    "\n",
    "Example: n = 3\n",
    "\n",
    "<pre>\n",
    "__/\\__\n",
    "_/  \\_\n",
    "/    \\\n",
    "Example: n = 5\n",
    "\n",
    "____/\\____\n",
    "___/  \\___\n",
    "__/    \\__\n",
    "_/      \\_\n",
    "/        \\</pre>"
   ]
  },
  {
   "cell_type": "code",
   "execution_count": 2,
   "metadata": {},
   "outputs": [
    {
     "name": "stdout",
     "output_type": "stream",
     "text": [
      "____/\\____\n",
      "___/  \\___\n",
      "__/    \\__\n",
      "_/      \\_\n",
      "/        \\\n"
     ]
    }
   ],
   "source": [
    "def exercise6():\n",
    "    n = int(input())\n",
    "\n",
    "    for i in range(n):\n",
    "        print('_' * (n - i - 1) \n",
    "          + '/' \n",
    "          + ' ' * i * 2\n",
    "          + '\\\\' \n",
    "          + '_' * (n - i - 1) )\n",
    "exercise6()       "
   ]
  },
  {
   "cell_type": "markdown",
   "metadata": {},
   "source": [
    "<h3>Exercise 7</h3>\n",
    "One way of computing square roots is Newton's method. Suppose that you want to know the square root of a. If you start with (almost) any estimate x, then you can get a better estimate with the formula: y = (x + a/x)/2\n",
    "\n",
    "Given a non-negative number a, compute the square root of that number using Newton's method with the precision of 0.0000001"
   ]
  },
  {
   "cell_type": "code",
   "execution_count": null,
   "metadata": {},
   "outputs": [],
   "source": [
    "def newton_sqrt(n: int, precision: float) -> float:\n",
    "    diff = 2**31 - 1\n",
    "    sqrt = n\n",
    "    prev_sqrt = n\n",
    "    while (diff > precision):\n",
    "        prev_sqrt = sqrt\n",
    "        sqrt = (sqrt + n/sqrt)/2\n",
    "        diff = abs(prev_sqrt - sqrt)\n",
    "    return sqrt\n",
    "def exercise7():\n",
    "    n = int(input())\n",
    "    print(newton_sqrt(n, 0.0000001))\n",
    "exercise7()"
   ]
  },
  {
   "cell_type": "markdown",
   "metadata": {},
   "source": [
    "<h3>Exercise 8</h3>\n",
    "Using the code from exercise 7 and math.sqrt function from math library, print a table that describe the differences between the estimation in each step and the value computed by math.sqrt function\n",
    "Example: a = 15\n",
    "\n",
    "<table>\n",
    "    <tr>\n",
    "        <th>Step</th>\n",
    "        <th>Value</th>\n",
    "        <th>Difference</th>\n",
    "    </tr>\n",
    "    <tr>\n",
    "        <td>1</td>\n",
    "        <td>15.0</td>\n",
    "        <td>11.127016653792584</td>\n",
    "    </tr>\n",
    "    <tr>\n",
    "        <td>2</td>\n",
    "        <td>8.0</td>\n",
    "        <td>4.127016653792583</td>\n",
    "    </tr>\n",
    "    <tr>\n",
    "        <td>3</td>\n",
    "        <td>4.9375</td>\n",
    "        <td>1.064516653792583</td>\n",
    "    </tr>\n",
    "    <tr>\n",
    "        <td>4</td>\n",
    "        <td>3.987737341772152</td>\n",
    "        <td>0.11475399556473498</td>\n",
    "    </tr>\n",
    "    <tr>\n",
    "        <td>5</td>\n",
    "        <td>3.87463446793002</td>\n",
    "        <td>0.001651121722602955</td>\n",
    "    </tr>\n",
    "    <tr>\n",
    "        <td>6</td>\n",
    "        <td>3.872983698008724</td>\n",
    "        <td>3.5180130719680847e-07</td>\n",
    "    </tr>\n",
    "    <tr>\n",
    "        <td>7</td>\n",
    "        <td>3.872983346207433</td>\n",
    "        <td>1.5987211554602254e-14</td>\n",
    "    </tr>\n",
    "</table>\n"
   ]
  },
  {
   "cell_type": "code",
   "execution_count": null,
   "metadata": {},
   "outputs": [],
   "source": [
    "import math\n",
    "def newton_sqrt_step(n:int, precision) -> int:\n",
    "    true_value = math.sqrt(n)\n",
    "    diff = 2**31 - 1\n",
    "    sqrt = n\n",
    "    prev_sqrt = n\n",
    "    iter = 1\n",
    "    print('{num_iter}\\t{val:<16}\\t\\t{dif}'.format(num_iter = 'Step', val = 'Value', dif = 'Difference'))\n",
    "    while (diff > precision):\n",
    "        print('{num_iter}\\t{val:<16}\\t\\t{dif}'.format(num_iter = iter, val = sqrt, dif = (sqrt - true_value)))\n",
    "        iter += 1\n",
    "        prev_sqrt = sqrt\n",
    "        sqrt = (sqrt + n/sqrt)/2\n",
    "        diff = abs(prev_sqrt - sqrt)\n",
    "    return sqrt\n",
    "def exercise8():\n",
    "    n = int(input())\n",
    "    print(newton_sqrt_step(n, precision=0.0000001))\n",
    "exercise8()"
   ]
  }
 ],
 "metadata": {
  "interpreter": {
   "hash": "eba413297dda554c5d8ea738fbe5a22f5a4555e5b0843a0e6a0eec0a305ba0f4"
  },
  "kernelspec": {
   "display_name": "Python 3.9.10 64-bit",
   "language": "python",
   "name": "python3"
  },
  "language_info": {
   "codemirror_mode": {
    "name": "ipython",
    "version": 3
   },
   "file_extension": ".py",
   "mimetype": "text/x-python",
   "name": "python",
   "nbconvert_exporter": "python",
   "pygments_lexer": "ipython3",
   "version": "3.9.10"
  },
  "orig_nbformat": 4
 },
 "nbformat": 4,
 "nbformat_minor": 2
}
