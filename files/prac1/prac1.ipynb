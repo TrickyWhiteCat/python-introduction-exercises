{
 "cells": [
  {
   "cell_type": "markdown",
   "metadata": {},
   "source": [
    "<h1 style = \"color : red;\">Practice 1: Control flow</h1>\n"
   ]
  },
  {
   "cell_type": "markdown",
   "metadata": {},
   "source": [
    "<h2 style = \"color: cyan\">Part 1. Conditional statements</h2>"
   ]
  },
  {
   "cell_type": "markdown",
   "metadata": {},
   "source": [
    "<h3>Exercise 1</h3>\n",
    "Write a program to display the number of days in a month, given the month and the year"
   ]
  },
  {
   "cell_type": "code",
   "execution_count": 2,
   "metadata": {},
   "outputs": [
    {
     "name": "stdout",
     "output_type": "stream",
     "text": [
      "31\n"
     ]
    }
   ],
   "source": [
    "def leap(year:int) -> bool:\n",
    "    if ((year % 4) and (not year % 100)) or (year % 400):\n",
    "        return True\n",
    "    return False\n",
    "def exercise1():\n",
    "    month = int(input())\n",
    "    year = int(input())\n",
    "    days_in_month = [-1, 31, 28, 31, 30, 31, 30, 31, 31, 30, 31, 30, 31]\n",
    "    if month == 2:\n",
    "        if leap(year):\n",
    "            print(29)\n",
    "        else:\n",
    "            print(28)\n",
    "    else:\n",
    "        print(days_in_month[month])\n",
    "exercise1()"
   ]
  },
  {
   "cell_type": "markdown",
   "metadata": {},
   "source": [
    "<h3>Exercise 2</h3>\n",
    "Write a program to determine if 3 distinct points create an acute, right, obtuse triangle or a straight line, given the coordinates of the points"
   ]
  },
  {
   "cell_type": "code",
   "execution_count": null,
   "metadata": {},
   "outputs": [],
   "source": [
    "import math\n",
    "\n",
    "ax, ay, bx, by, cx, cy = [float(i) for i in input().split()]\n",
    "\n",
    "def length(v):\n",
    "    res = 0\n",
    "    for i in range(len(v)):\n",
    "        res += v[i]**2\n",
    "    return math.sqrt(res)\n",
    "\n",
    "def pythagoras(a, b, c):\n",
    "    if length(a) + length(b) == length(c) or \\\n",
    "       length(a) + length(c) == length(b) or \\\n",
    "       length(b) + length(c) == length(a):\n",
    "        return 'line'\n",
    "    if length(a) ** 2 + length(b) ** 2 == length(c) ** 2 or \\\n",
    "       length(a) ** 2 + length(c) ** 2 == length(b) ** 2 or \\\n",
    "       length(b) ** 2 + length(c) ** 2 == length(a) ** 2:\n",
    "        return 'right'\n",
    "    if length(a) ** 2 + length(b) ** 2 > length(c) ** 2 or \\\n",
    "       length(a) ** 2 + length(c) ** 2 > length(b) ** 2 or \\\n",
    "       length(b) ** 2 + length(c) ** 2 > length(a) ** 2:\n",
    "        return 'obtuse'\n",
    "    return 'acute'\n",
    "\n",
    "print(pythagoras((ax-bx, ay-by), (bx-cx, by-cy), (cx-ax, cy-ay)))"
   ]
  },
  {
   "cell_type": "markdown",
   "metadata": {},
   "source": [
    "<h3>Exercise 3</h3>\n",
    "GrabBike's pricing in Hanoi is calculated as follow: for the first 2km, the customer will be charged VND 12,000 and for each next km, he will be charged VND 3,500. In addition, after the first 2km, the customer will be charged VND 350 for each minute travel.\n",
    "\n",
    "Given the distance and the average speed (assume that the speed is constant), calculate the amount of money that the customer has to pay"
   ]
  },
  {
   "cell_type": "code",
   "execution_count": null,
   "metadata": {},
   "outputs": [],
   "source": [
    "distance = float(input())\n",
    "speed = float(input())\n",
    "time_after_2km = (distance-2)/speed\n",
    "if distance <= 2:\n",
    "    print(12000)\n",
    "else:\n",
    "    print(round(12000 + 3500*math.ceil(distance-2) + 350*time_after_2km))\n"
   ]
  },
  {
   "cell_type": "markdown",
   "metadata": {},
   "source": [
    "<h2 style = \"color: cyan\">Part 2. Loops</h2>"
   ]
  },
  {
   "cell_type": "markdown",
   "metadata": {},
   "source": [
    "<h3>Exercise 4</h3>\n",
    "The Collatz conjecture is a conjecture in mathematics that concerns a sequence defined as follows: start with any positive integer n. If the previous term is even, the next term is one half of the previous term. If the previous term is odd, the next term is 3 times the previous term plus 1. The conjecture is that no matter what value of n, the sequence will always reach 1.\n",
    "\n",
    "For instance, starting with n = 12, one gets the sequence 12, 6, 3, 10, 5, 16, 8, 4, 2, 1.\n",
    "\n",
    "Given the starting number, print the value of all the numbers in its path to 1"
   ]
  },
  {
   "cell_type": "code",
   "execution_count": null,
   "metadata": {},
   "outputs": [],
   "source": [
    "def Collatz(n:int):\n",
    "    n = int(n)\n",
    "    while n != 1:\n",
    "        print(n, end = ' ')\n",
    "        if n % 2:\n",
    "            n = n * 3 + 1\n",
    "        else:\n",
    "            n //= 2\n",
    "    print(1)\n",
    "\n",
    "def exercise4():\n",
    "    n = int(input())\n",
    "    Collatz(n)\n",
    "\n",
    "exercise4()"
   ]
  },
  {
   "cell_type": "markdown",
   "metadata": {},
   "source": [
    "<h3>Exercise 5</h3>\n",
    "Write a program to check if an integer is a prime number or not"
   ]
  },
  {
   "cell_type": "code",
   "execution_count": null,
   "metadata": {},
   "outputs": [],
   "source": [
    "import math\n",
    "\n",
    "def is_prime(n:int) -> bool:\n",
    "    if n <= 1:\n",
    "        return False \n",
    "\n",
    "    for i in range(2, int(math.sqrt(n)) + 1):\n",
    "        if n % i == 0:\n",
    "            return False\n",
    "\n",
    "    return True\n",
    "\n",
    "def exercise5():\n",
    "    n = int(input())\n",
    "    print('prime' if is_prime(n) else 'not prime')\n",
    "\n",
    "exercise5()"
   ]
  }
 ],
 "metadata": {
  "interpreter": {
   "hash": "eba413297dda554c5d8ea738fbe5a22f5a4555e5b0843a0e6a0eec0a305ba0f4"
  },
  "kernelspec": {
   "display_name": "Python 3.9.10 64-bit",
   "language": "python",
   "name": "python3"
  },
  "language_info": {
   "codemirror_mode": {
    "name": "ipython",
    "version": 3
   },
   "file_extension": ".py",
   "mimetype": "text/x-python",
   "name": "python",
   "nbconvert_exporter": "python",
   "pygments_lexer": "ipython3",
   "version": "3.9.10"
  },
  "orig_nbformat": 4
 },
 "nbformat": 4,
 "nbformat_minor": 2
}
